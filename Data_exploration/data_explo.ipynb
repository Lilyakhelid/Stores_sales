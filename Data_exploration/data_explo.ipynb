{
 "cells": [
  {
   "cell_type": "markdown",
   "metadata": {},
   "source": [
    "# elements de data explo \n",
    "\n",
    "j'essaie juste des trucs pour comprendre\n",
    "# comprendre le clustering\n"
   ]
  },
  {
   "cell_type": "code",
   "execution_count": 1,
   "metadata": {},
   "outputs": [],
   "source": [
    "import os\n",
    "import pandas as pd"
   ]
  },
  {
   "cell_type": "code",
   "execution_count": 8,
   "metadata": {},
   "outputs": [],
   "source": [
    "raw_data_path = os.path.join(os.path.dirname(os.getcwd()), 'data', 'raw')\n",
    "testing_path = os.path.join(raw_data_path, 'test.csv')\n",
    "training_path = os.path.join(raw_data_path, 'train.csv')\n",
    "stores_path = os.path.join(raw_data_path, 'stores.csv')\n"
   ]
  },
  {
   "cell_type": "code",
   "execution_count": 9,
   "metadata": {},
   "outputs": [
    {
     "data": {
      "text/html": [
       "<div>\n",
       "<style scoped>\n",
       "    .dataframe tbody tr th:only-of-type {\n",
       "        vertical-align: middle;\n",
       "    }\n",
       "\n",
       "    .dataframe tbody tr th {\n",
       "        vertical-align: top;\n",
       "    }\n",
       "\n",
       "    .dataframe thead th {\n",
       "        text-align: right;\n",
       "    }\n",
       "</style>\n",
       "<table border=\"1\" class=\"dataframe\">\n",
       "  <thead>\n",
       "    <tr style=\"text-align: right;\">\n",
       "      <th></th>\n",
       "      <th>id</th>\n",
       "      <th>date</th>\n",
       "      <th>store_nbr</th>\n",
       "      <th>family</th>\n",
       "      <th>sales</th>\n",
       "      <th>onpromotion</th>\n",
       "    </tr>\n",
       "  </thead>\n",
       "  <tbody>\n",
       "    <tr>\n",
       "      <th>0</th>\n",
       "      <td>0</td>\n",
       "      <td>2013-01-01</td>\n",
       "      <td>1</td>\n",
       "      <td>AUTOMOTIVE</td>\n",
       "      <td>0.0</td>\n",
       "      <td>0</td>\n",
       "    </tr>\n",
       "    <tr>\n",
       "      <th>1</th>\n",
       "      <td>1</td>\n",
       "      <td>2013-01-01</td>\n",
       "      <td>1</td>\n",
       "      <td>BABY CARE</td>\n",
       "      <td>0.0</td>\n",
       "      <td>0</td>\n",
       "    </tr>\n",
       "    <tr>\n",
       "      <th>2</th>\n",
       "      <td>2</td>\n",
       "      <td>2013-01-01</td>\n",
       "      <td>1</td>\n",
       "      <td>BEAUTY</td>\n",
       "      <td>0.0</td>\n",
       "      <td>0</td>\n",
       "    </tr>\n",
       "    <tr>\n",
       "      <th>3</th>\n",
       "      <td>3</td>\n",
       "      <td>2013-01-01</td>\n",
       "      <td>1</td>\n",
       "      <td>BEVERAGES</td>\n",
       "      <td>0.0</td>\n",
       "      <td>0</td>\n",
       "    </tr>\n",
       "    <tr>\n",
       "      <th>4</th>\n",
       "      <td>4</td>\n",
       "      <td>2013-01-01</td>\n",
       "      <td>1</td>\n",
       "      <td>BOOKS</td>\n",
       "      <td>0.0</td>\n",
       "      <td>0</td>\n",
       "    </tr>\n",
       "  </tbody>\n",
       "</table>\n",
       "</div>"
      ],
      "text/plain": [
       "   id        date  store_nbr      family  sales  onpromotion\n",
       "0   0  2013-01-01          1  AUTOMOTIVE    0.0            0\n",
       "1   1  2013-01-01          1   BABY CARE    0.0            0\n",
       "2   2  2013-01-01          1      BEAUTY    0.0            0\n",
       "3   3  2013-01-01          1   BEVERAGES    0.0            0\n",
       "4   4  2013-01-01          1       BOOKS    0.0            0"
      ]
     },
     "execution_count": 9,
     "metadata": {},
     "output_type": "execute_result"
    }
   ],
   "source": [
    "train_df = pd.read_csv(training_path)\n",
    "\n",
    "train_df.head()"
   ]
  },
  {
   "cell_type": "code",
   "execution_count": 24,
   "metadata": {},
   "outputs": [
    {
     "name": "stdout",
     "output_type": "stream",
     "text": [
      "    store_nbr       city        state type  cluster\n",
      "23         24  Guayaquil       Guayas    D        1\n",
      "24         25    Salinas  Santa Elena    D        1\n",
      "26         27      Daule       Guayas    D        1\n",
      "    store_nbr    city  state type  cluster\n",
      "36         37  Cuenca  Azuay    D        2\n",
      "41         42  Cuenca  Azuay    D        2\n",
      "    store_nbr           city                           state type  cluster\n",
      "15         16  Santo Domingo  Santo Domingo de los Tsachilas    C        3\n",
      "29         30      Guayaquil                          Guayas    C        3\n",
      "31         32      Guayaquil                          Guayas    C        3\n",
      "32         33        Quevedo                        Los Rios    C        3\n",
      "34         35         Playas                          Guayas    C        3\n",
      "39         40        Machala                          El Oro    C        3\n",
      "53         54      El Carmen                          Manabi    C        3\n",
      "    store_nbr           city                           state type  cluster\n",
      "4           5  Santo Domingo  Santo Domingo de los Tsachilas    D        4\n",
      "37         38           Loja                            Loja    D        4\n",
      "40         41        Machala                          El Oro    D        4\n",
      "    store_nbr   city      state type  cluster\n",
      "43         44  Quito  Pichincha    A        5\n",
      "    store_nbr           city                           state type  cluster\n",
      "8           9          Quito                       Pichincha    B        6\n",
      "10         11        Cayambe                       Pichincha    B        6\n",
      "19         20          Quito                       Pichincha    B        6\n",
      "20         21  Santo Domingo  Santo Domingo de los Tsachilas    B        6\n",
      "33         34      Guayaquil                          Guayas    B        6\n",
      "38         39         Cuenca                           Azuay    B        6\n",
      "    store_nbr      city       state type  cluster\n",
      "13         14  Riobamba  Chimborazo    C        7\n",
      "21         22      Puyo     Pastaza    C        7\n",
      "   store_nbr   city      state type  cluster\n",
      "2          3  Quito  Pichincha    D        8\n",
      "6          7  Quito  Pichincha    D        8\n",
      "7          8  Quito  Pichincha    D        8\n",
      "    store_nbr    city       state type  cluster\n",
      "3           4   Quito   Pichincha    D        9\n",
      "22         23  Ambato  Tungurahua    D        9\n",
      "    store_nbr        city       state type  cluster\n",
      "25         26   Guayaquil      Guayas    D       10\n",
      "27         28   Guayaquil      Guayas    E       10\n",
      "28         29   Guayaquil      Guayas    E       10\n",
      "30         31    Babahoyo    Los Rios    B       10\n",
      "35         36    Libertad      Guayas    E       10\n",
      "42         43  Esmeraldas  Esmeraldas    E       10\n",
      "    store_nbr   city      state type  cluster\n",
      "44         45  Quito  Pichincha    A       11\n",
      "48         49  Quito  Pichincha    A       11\n",
      "51         52  Manta     Manabi    A       11\n",
      "    store_nbr   city      state type  cluster\n",
      "16         17  Quito  Pichincha    C       12\n",
      "    store_nbr   city      state type  cluster\n",
      "0           1  Quito  Pichincha    D       13\n",
      "1           2  Quito  Pichincha    D       13\n",
      "5           6  Quito  Pichincha    D       13\n",
      "52         53  Manta     Manabi    D       13\n",
      "    store_nbr    city       state type  cluster\n",
      "45         46   Quito   Pichincha    A       14\n",
      "46         47   Quito   Pichincha    A       14\n",
      "47         48   Quito   Pichincha    A       14\n",
      "49         50  Ambato  Tungurahua    A       14\n",
      "    store_nbr       city      state type  cluster\n",
      "9          10      Quito  Pichincha    C       15\n",
      "11         12  Latacunga   Cotopaxi    C       15\n",
      "12         13  Latacunga   Cotopaxi    C       15\n",
      "14         15     Ibarra   Imbabura    C       15\n",
      "18         19   Guaranda    Bolivar    C       15\n",
      "    store_nbr   city      state type  cluster\n",
      "17         18  Quito  Pichincha    B       16\n",
      "    store_nbr       city   state type  cluster\n",
      "50         51  Guayaquil  Guayas    A       17\n"
     ]
    }
   ],
   "source": [
    "stores_df = pd.read_csv(stores_path)\n",
    "for i in range(1,18):\n",
    "    print(stores_df[stores_df['cluster'] == i])"
   ]
  },
  {
   "cell_type": "markdown",
   "metadata": {},
   "source": [
    "il faudra aussi comprendre les donne sbien : on a 33 famille de produit, et  a chaque date, on a les ventes dans chaque famille de produit de tout les magasins dans test.csv\n",
    "\n",
    "bcp de 0 donc , c pas forcement des magasin qui marche bien. \n",
    "\n",
    "on a 17 magasin \n",
    "\n",
    "\n",
    ".\n",
    ".\n",
    ".\n",
    "\n",
    "tout sa sont des infos a faire ressortir \n"
   ]
  },
  {
   "cell_type": "markdown",
   "metadata": {},
   "source": []
  }
 ],
 "metadata": {
  "kernelspec": {
   "display_name": "venv_time_series",
   "language": "python",
   "name": "python3"
  },
  "language_info": {
   "codemirror_mode": {
    "name": "ipython",
    "version": 3
   },
   "file_extension": ".py",
   "mimetype": "text/x-python",
   "name": "python",
   "nbconvert_exporter": "python",
   "pygments_lexer": "ipython3",
   "version": "3.11.5"
  }
 },
 "nbformat": 4,
 "nbformat_minor": 2
}
