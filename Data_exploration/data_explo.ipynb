{
 "cells": [
  {
   "cell_type": "markdown",
   "metadata": {},
   "source": [
    "# elements de data explo broullon\n",
    "\n",
    "j'essaie juste des trucs pour comprendre\n",
    "# comprendre le clustering\n"
   ]
  },
  {
   "cell_type": "code",
   "execution_count": 23,
   "metadata": {},
   "outputs": [],
   "source": [
    "import os\n",
    "import pandas as pd"
   ]
  },
  {
   "cell_type": "code",
   "execution_count": 24,
   "metadata": {},
   "outputs": [],
   "source": [
    "# --Chemins--\n",
    "raw_data_path = os.path.join(os.path.dirname(os.getcwd()), 'data', 'raw')\n",
    "processed_data_path = os.path.join(os.path.dirname(os.getcwd()), 'data', 'processed')\n",
    "testing_path = os.path.join(processed_data_path, 'testing.csv')\n",
    "training_path = os.path.join(processed_data_path, 'training.csv')\n",
    "stores_path = os.path.join(raw_data_path, 'stores.csv')\n",
    "# --Tables--\n",
    "train_df = pd.read_csv(training_path)\n",
    "train_df['date'] = pd.to_datetime(train_df['date'], format='%Y-%m-%d')\n",
    "\n",
    "test_df = pd.read_csv(testing_path)\n",
    "test_df['date'] = pd.to_datetime(test_df['date'], format='%Y-%m-%d')\n",
    "\n",
    "stores_df = pd.read_csv(stores_path)"
   ]
  },
  {
   "cell_type": "code",
   "execution_count": 25,
   "metadata": {},
   "outputs": [
    {
     "data": {
      "text/plain": [
       "(54, 5)"
      ]
     },
     "execution_count": 25,
     "metadata": {},
     "output_type": "execute_result"
    }
   ],
   "source": [
    "stores_df.shape"
   ]
  },
  {
   "cell_type": "markdown",
   "metadata": {},
   "source": [
    "> on a 54 magasin differents"
   ]
  },
  {
   "cell_type": "code",
   "execution_count": 27,
   "metadata": {},
   "outputs": [
    {
     "name": "stderr",
     "output_type": "stream",
     "text": [
      "/var/folders/db/swcwxrj54c30_jn72llv15kh0000gn/T/ipykernel_98557/2086328499.py:1: UserWarning: Boolean Series key will be reindexed to match DataFrame index.\n",
      "  train_df[train_df['date']=='2013-01-01'][train_df['family']=='BABY CARE'].shape\n"
     ]
    },
    {
     "data": {
      "text/plain": [
       "(54, 5)"
      ]
     },
     "execution_count": 27,
     "metadata": {},
     "output_type": "execute_result"
    }
   ],
   "source": [
    "train_df[train_df['date']=='2013-01-01'][train_df['family']=='BABY CARE'].shape"
   ]
  },
  {
   "cell_type": "code",
   "execution_count": 26,
   "metadata": {},
   "outputs": [
    {
     "data": {
      "text/html": [
       "<div>\n",
       "<style scoped>\n",
       "    .dataframe tbody tr th:only-of-type {\n",
       "        vertical-align: middle;\n",
       "    }\n",
       "\n",
       "    .dataframe tbody tr th {\n",
       "        vertical-align: top;\n",
       "    }\n",
       "\n",
       "    .dataframe thead th {\n",
       "        text-align: right;\n",
       "    }\n",
       "</style>\n",
       "<table border=\"1\" class=\"dataframe\">\n",
       "  <thead>\n",
       "    <tr style=\"text-align: right;\">\n",
       "      <th></th>\n",
       "      <th>id</th>\n",
       "      <th>date</th>\n",
       "      <th>store_nbr</th>\n",
       "      <th>family</th>\n",
       "      <th>sales</th>\n",
       "    </tr>\n",
       "  </thead>\n",
       "  <tbody>\n",
       "    <tr>\n",
       "      <th>0</th>\n",
       "      <td>0</td>\n",
       "      <td>2013-01-01</td>\n",
       "      <td>1</td>\n",
       "      <td>AUTOMOTIVE</td>\n",
       "      <td>0.000</td>\n",
       "    </tr>\n",
       "    <tr>\n",
       "      <th>1</th>\n",
       "      <td>1</td>\n",
       "      <td>2013-01-01</td>\n",
       "      <td>1</td>\n",
       "      <td>BABY CARE</td>\n",
       "      <td>0.000</td>\n",
       "    </tr>\n",
       "    <tr>\n",
       "      <th>2</th>\n",
       "      <td>2</td>\n",
       "      <td>2013-01-01</td>\n",
       "      <td>1</td>\n",
       "      <td>BEAUTY</td>\n",
       "      <td>0.000</td>\n",
       "    </tr>\n",
       "    <tr>\n",
       "      <th>3</th>\n",
       "      <td>3</td>\n",
       "      <td>2013-01-01</td>\n",
       "      <td>1</td>\n",
       "      <td>BEVERAGES</td>\n",
       "      <td>0.000</td>\n",
       "    </tr>\n",
       "    <tr>\n",
       "      <th>4</th>\n",
       "      <td>4</td>\n",
       "      <td>2013-01-01</td>\n",
       "      <td>1</td>\n",
       "      <td>BOOKS</td>\n",
       "      <td>0.000</td>\n",
       "    </tr>\n",
       "    <tr>\n",
       "      <th>...</th>\n",
       "      <td>...</td>\n",
       "      <td>...</td>\n",
       "      <td>...</td>\n",
       "      <td>...</td>\n",
       "      <td>...</td>\n",
       "    </tr>\n",
       "    <tr>\n",
       "      <th>1945939</th>\n",
       "      <td>1945939</td>\n",
       "      <td>2015-12-31</td>\n",
       "      <td>9</td>\n",
       "      <td>POULTRY</td>\n",
       "      <td>734.391</td>\n",
       "    </tr>\n",
       "    <tr>\n",
       "      <th>1945940</th>\n",
       "      <td>1945940</td>\n",
       "      <td>2015-12-31</td>\n",
       "      <td>9</td>\n",
       "      <td>PREPARED FOODS</td>\n",
       "      <td>98.888</td>\n",
       "    </tr>\n",
       "    <tr>\n",
       "      <th>1945941</th>\n",
       "      <td>1945941</td>\n",
       "      <td>2015-12-31</td>\n",
       "      <td>9</td>\n",
       "      <td>PRODUCE</td>\n",
       "      <td>2888.340</td>\n",
       "    </tr>\n",
       "    <tr>\n",
       "      <th>1945942</th>\n",
       "      <td>1945942</td>\n",
       "      <td>2015-12-31</td>\n",
       "      <td>9</td>\n",
       "      <td>SCHOOL AND OFFICE SUPPLIES</td>\n",
       "      <td>0.000</td>\n",
       "    </tr>\n",
       "    <tr>\n",
       "      <th>1945943</th>\n",
       "      <td>1945943</td>\n",
       "      <td>2015-12-31</td>\n",
       "      <td>9</td>\n",
       "      <td>SEAFOOD</td>\n",
       "      <td>20.340</td>\n",
       "    </tr>\n",
       "  </tbody>\n",
       "</table>\n",
       "<p>1945944 rows × 5 columns</p>\n",
       "</div>"
      ],
      "text/plain": [
       "              id       date  store_nbr                      family     sales\n",
       "0              0 2013-01-01          1                  AUTOMOTIVE     0.000\n",
       "1              1 2013-01-01          1                   BABY CARE     0.000\n",
       "2              2 2013-01-01          1                      BEAUTY     0.000\n",
       "3              3 2013-01-01          1                   BEVERAGES     0.000\n",
       "4              4 2013-01-01          1                       BOOKS     0.000\n",
       "...          ...        ...        ...                         ...       ...\n",
       "1945939  1945939 2015-12-31          9                     POULTRY   734.391\n",
       "1945940  1945940 2015-12-31          9              PREPARED FOODS    98.888\n",
       "1945941  1945941 2015-12-31          9                     PRODUCE  2888.340\n",
       "1945942  1945942 2015-12-31          9  SCHOOL AND OFFICE SUPPLIES     0.000\n",
       "1945943  1945943 2015-12-31          9                     SEAFOOD    20.340\n",
       "\n",
       "[1945944 rows x 5 columns]"
      ]
     },
     "execution_count": 26,
     "metadata": {},
     "output_type": "execute_result"
    }
   ],
   "source": [
    "train_df"
   ]
  },
  {
   "cell_type": "markdown",
   "metadata": {},
   "source": [
    "il faudra aussi comprendre les donne sbien : on a 33 famille de produit, et  a chaque date, on a les ventes dans chaque famille de produit de tout les magasins dans test.csv\n",
    "\n",
    "bcp de 0 donc , c pas forcement des magasin qui marche bien. \n",
    "\n",
    "on a 17 magasin \n",
    "\n",
    "\n",
    ".\n",
    ".\n",
    ".\n",
    "\n",
    "tout sa sont des infos a faire ressortir \n"
   ]
  },
  {
   "cell_type": "markdown",
   "metadata": {},
   "source": [
    "# note pour nous\n",
    "\n",
    "\n",
    "grossomodo on peut reprendre les codes kaglle dessus, jaimerai juste que on etuide cette famesue variable cluster. voir sa pertinence et si il faut pas que on la refsse . \n",
    "\n",
    "comme sa on fait botom up clasique puis celle avec clustering de time series et si on a le temps, reconciliattion (cours)"
   ]
  },
  {
   "cell_type": "markdown",
   "metadata": {},
   "source": []
  }
 ],
 "metadata": {
  "kernelspec": {
   "display_name": "venv_time_series",
   "language": "python",
   "name": "python3"
  },
  "language_info": {
   "codemirror_mode": {
    "name": "ipython",
    "version": 3
   },
   "file_extension": ".py",
   "mimetype": "text/x-python",
   "name": "python",
   "nbconvert_exporter": "python",
   "pygments_lexer": "ipython3",
   "version": "3.11.5"
  }
 },
 "nbformat": 4,
 "nbformat_minor": 2
}
