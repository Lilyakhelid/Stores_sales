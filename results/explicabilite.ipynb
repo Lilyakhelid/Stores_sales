{
 "cells": [
  {
   "cell_type": "code",
   "execution_count": null,
   "metadata": {},
   "outputs": [],
   "source": [
    "#lime et shap si temps"
   ]
  },
  {
   "cell_type": "code",
   "execution_count": null,
   "metadata": {},
   "outputs": [],
   "source": [
    "#ici ya shap values pour meilleur smodel ET variables exogenes"
   ]
  }
 ],
 "metadata": {
  "kernelspec": {
   "display_name": "venv_time_series",
   "language": "python",
   "name": "python3"
  },
  "language_info": {
   "name": "python",
   "version": "3.11.5"
  }
 },
 "nbformat": 4,
 "nbformat_minor": 2
}
