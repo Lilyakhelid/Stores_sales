{
 "cells": [
  {
   "cell_type": "markdown",
   "metadata": {},
   "source": [
    "# Preprocessing des Données Kaggle\n",
    "\n",
    "Dans le jeu de données Kaggle, l'objectif initial du test est de prédire une semaine, en s'appuyant sur des données couvrant la période de 2013 à 2017. \n",
    "\n",
    "Cependant, pour augmenter la portée de notre modèle, nous allons élargir l'ensemble de test afin de tenter de prédire **deux ans**.\n"
   ]
  },
  {
   "cell_type": "code",
   "execution_count": 32,
   "metadata": {},
   "outputs": [],
   "source": [
    "import os\n",
    "import pandas as pd"
   ]
  },
  {
   "cell_type": "markdown",
   "metadata": {},
   "source": [
    "### 📥 Importation et Prétraitement des Données"
   ]
  },
  {
   "cell_type": "code",
   "execution_count": 33,
   "metadata": {},
   "outputs": [],
   "source": [
    "# --Chemins--\n",
    "raw_data_path = os.path.join(os.path.dirname(os.path.dirname(os.getcwd())), 'data', 'raw')\n",
    "processed_data_path = os.path.join(os.path.dirname(os.path.dirname(os.getcwd())), 'data', 'processed')\n",
    "testing_path = os.path.join(raw_data_path, 'test.csv')\n",
    "training_path = os.path.join(raw_data_path, 'train.csv')\n",
    "# --Tables--\n",
    "train_df = pd.read_csv(training_path)\n",
    "train_df['date'] = pd.to_datetime(train_df['date'], format='%Y-%m-%d')\n",
    "\n",
    "test_df = pd.read_csv(testing_path)\n",
    "test_df['date'] = pd.to_datetime(test_df['date'], format='%Y-%m-%d')\n",
    "\n",
    "# --Fusion--\n",
    "full_df = pd.concat([train_df, test_df], ignore_index=True)\n",
    "full_df = full_df.drop(columns=['onpromotion'])\n"
   ]
  },
  {
   "cell_type": "code",
   "execution_count": 34,
   "metadata": {},
   "outputs": [
    {
     "data": {
      "text/html": [
       "<div>\n",
       "<style scoped>\n",
       "    .dataframe tbody tr th:only-of-type {\n",
       "        vertical-align: middle;\n",
       "    }\n",
       "\n",
       "    .dataframe tbody tr th {\n",
       "        vertical-align: top;\n",
       "    }\n",
       "\n",
       "    .dataframe thead th {\n",
       "        text-align: right;\n",
       "    }\n",
       "</style>\n",
       "<table border=\"1\" class=\"dataframe\">\n",
       "  <thead>\n",
       "    <tr style=\"text-align: right;\">\n",
       "      <th></th>\n",
       "      <th>id</th>\n",
       "      <th>date</th>\n",
       "      <th>store_nbr</th>\n",
       "      <th>family</th>\n",
       "      <th>sales</th>\n",
       "    </tr>\n",
       "  </thead>\n",
       "  <tbody>\n",
       "    <tr>\n",
       "      <th>0</th>\n",
       "      <td>0</td>\n",
       "      <td>2013-01-01</td>\n",
       "      <td>1</td>\n",
       "      <td>AUTOMOTIVE</td>\n",
       "      <td>0.0</td>\n",
       "    </tr>\n",
       "    <tr>\n",
       "      <th>1</th>\n",
       "      <td>1</td>\n",
       "      <td>2013-01-01</td>\n",
       "      <td>1</td>\n",
       "      <td>BABY CARE</td>\n",
       "      <td>0.0</td>\n",
       "    </tr>\n",
       "    <tr>\n",
       "      <th>2</th>\n",
       "      <td>2</td>\n",
       "      <td>2013-01-01</td>\n",
       "      <td>1</td>\n",
       "      <td>BEAUTY</td>\n",
       "      <td>0.0</td>\n",
       "    </tr>\n",
       "    <tr>\n",
       "      <th>3</th>\n",
       "      <td>3</td>\n",
       "      <td>2013-01-01</td>\n",
       "      <td>1</td>\n",
       "      <td>BEVERAGES</td>\n",
       "      <td>0.0</td>\n",
       "    </tr>\n",
       "    <tr>\n",
       "      <th>4</th>\n",
       "      <td>4</td>\n",
       "      <td>2013-01-01</td>\n",
       "      <td>1</td>\n",
       "      <td>BOOKS</td>\n",
       "      <td>0.0</td>\n",
       "    </tr>\n",
       "  </tbody>\n",
       "</table>\n",
       "</div>"
      ],
      "text/plain": [
       "   id       date  store_nbr      family  sales\n",
       "0   0 2013-01-01          1  AUTOMOTIVE    0.0\n",
       "1   1 2013-01-01          1   BABY CARE    0.0\n",
       "2   2 2013-01-01          1      BEAUTY    0.0\n",
       "3   3 2013-01-01          1   BEVERAGES    0.0\n",
       "4   4 2013-01-01          1       BOOKS    0.0"
      ]
     },
     "execution_count": 34,
     "metadata": {},
     "output_type": "execute_result"
    }
   ],
   "source": [
    "full_df.head()"
   ]
  },
  {
   "cell_type": "markdown",
   "metadata": {},
   "source": [
    "### 🔍Faisons quelques vérifications sur les données"
   ]
  },
  {
   "cell_type": "code",
   "execution_count": 35,
   "metadata": {},
   "outputs": [
    {
     "name": "stdout",
     "output_type": "stream",
     "text": [
      "Nombre de dates qui se répètent : 3027700\n",
      "Valeurs manquantes :\n",
      "id               0\n",
      "date             0\n",
      "store_nbr        0\n",
      "family           0\n",
      "sales        28512\n",
      "dtype: int64\n",
      "Jours manquants : 4\n",
      "Liste des jours manquants : [Timestamp('2013-12-25 00:00:00', freq='D'), Timestamp('2014-12-25 00:00:00', freq='D'), Timestamp('2015-12-25 00:00:00', freq='D'), Timestamp('2016-12-25 00:00:00', freq='D')]\n"
     ]
    }
   ],
   "source": [
    "\n",
    "# --Vérification des doublons de dates--\n",
    "duplicate_dates = full_df['date'].duplicated().sum()\n",
    "print(f\"Nombre de dates qui se répètent : {duplicate_dates}\")\n",
    "\n",
    "# --Vérification des valeurs nulles--\n",
    "missing_values = full_df.isnull().sum()\n",
    "print(f\"Valeurs manquantes :\\n{missing_values}\")\n",
    "\n",
    "# --Vérifier si chaque jour apparait--\n",
    "date_range = pd.date_range(start=full_df['date'].min(), end=full_df['date'].max())\n",
    "missing_days = set(date_range) - set(full_df['date'])\n",
    "print(f\"Jours manquants : {len(missing_days)}\")\n",
    "if missing_days:\n",
    "    print(f\"Liste des jours manquants : {sorted(missing_days)}\")\n",
    "else:\n",
    "    print(\"Tous les jours sont présents dans la plage de dates.\")"
   ]
  },
  {
   "cell_type": "markdown",
   "metadata": {},
   "source": [
    "> Chaque année il nous manque Noel, et nous avons des valeurs `null` dans la colonne `sales`"
   ]
  },
  {
   "cell_type": "markdown",
   "metadata": {},
   "source": [
    "### ✂️ Séparation des données pour le test : **deux ans** de data"
   ]
  },
  {
   "cell_type": "code",
   "execution_count": 31,
   "metadata": {},
   "outputs": [],
   "source": [
    "# --Diviser les données en ensembles d'entraînement et de test--\n",
    "training_data = full_df[full_df['date'] <= '2015-12-31']\n",
    "testing_data = full_df[full_df['date'] >= '2016-01-01']\n",
    "\n",
    "training_file_path = os.path.join(processed_data_path, 'training.csv')\n",
    "testing_file_path = os.path.join(processed_data_path, 'testing.csv')\n",
    "\n",
    "training_data.to_csv(training_file_path, index=False)\n",
    "testing_data.to_csv(testing_file_path, index=False)"
   ]
  }
 ],
 "metadata": {
  "kernelspec": {
   "display_name": "venv_time_series",
   "language": "python",
   "name": "python3"
  },
  "language_info": {
   "codemirror_mode": {
    "name": "ipython",
    "version": 3
   },
   "file_extension": ".py",
   "mimetype": "text/x-python",
   "name": "python",
   "nbconvert_exporter": "python",
   "pygments_lexer": "ipython3",
   "version": "3.11.5"
  }
 },
 "nbformat": 4,
 "nbformat_minor": 2
}
