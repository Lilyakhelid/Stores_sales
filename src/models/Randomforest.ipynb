{
 "cells": [
  {
   "cell_type": "markdown",
   "metadata": {},
   "source": [
    "---\n",
    "\n",
    "## Random Forest"
   ]
  },
  {
   "cell_type": "code",
   "execution_count": 1,
   "metadata": {},
   "outputs": [],
   "source": [
    "import pandas as pd\n",
    "from sklearn.model_selection import GridSearchCV\n",
    "from sklearn.ensemble import RandomForestRegressor\n",
    "from sklearn.metrics import mean_squared_error"
   ]
  },
  {
   "cell_type": "code",
   "execution_count": 2,
   "metadata": {},
   "outputs": [],
   "source": [
    "# --Tables--\n",
    "series_train = pd.read_csv(\"series_train.csv\")\n",
    "series_test = pd.read_csv(\"series_test.csv\")"
   ]
  },
  {
   "cell_type": "code",
   "execution_count": 3,
   "metadata": {},
   "outputs": [],
   "source": [
    "X_train = series_train.drop(columns=['sales', 'date','diff','Train_Forecast', 'Train_Forecast_prophet', 'train_Forecast_LSTM','train_Forecast_XGB'])  # Exclure les colonnes inutiles pour l'entraînement\n",
    "y_train = series_train['sales']\n",
    "\n",
    "X_test = series_test.drop(columns=['sales', 'date','Test_Forecast','Test_Forecast_prophet', 'test_Forecast_LSTM', 'test_Forecast_XGB']) # Exclure les colonnes inutiles pour les prédictions\n",
    "y_test = series_test['sales']"
   ]
  },
  {
   "cell_type": "markdown",
   "metadata": {},
   "source": [
    "# girdsearch\n"
   ]
  },
  {
   "cell_type": "code",
   "execution_count": null,
   "metadata": {},
   "outputs": [
    {
     "name": "stdout",
     "output_type": "stream",
     "text": [
      "Fitting 5 folds for each of 81 candidates, totalling 405 fits\n"
     ]
    },
    {
     "name": "stdout",
     "output_type": "stream",
     "text": [
      "Meilleurs paramètres trouvés :\n",
      "{'max_depth': 5, 'min_samples_leaf': 2, 'min_samples_split': 10, 'n_estimators': 50}\n",
      "RMSE avec le meilleur modèle Random Forest : 364096.35630466416\n"
     ]
    }
   ],
   "source": [
    "param_grid = {\n",
    "    'n_estimators': [50, 100, 200],         # Nombre d'arbres dans la forêt\n",
    "    'max_depth': [5, 10, 20],              # Profondeur maximale des arbres\n",
    "    'min_samples_split': [2, 5, 10],       # Nombre minimum d'échantillons pour diviser un nœud\n",
    "    'min_samples_leaf': [1, 2, 4]          # Nombre minimum d'échantillons dans une feuille\n",
    "}\n",
    "\n",
    "grid_search_RF = GridSearchCV(\n",
    "    estimator=RandomForestRegressor(random_state=42),\n",
    "    param_grid=param_grid,\n",
    "    cv=5,                                  # Validation croisée (5-fold)\n",
    "    scoring='neg_mean_squared_error',      \n",
    "    verbose=1,                             \n",
    "    n_jobs=-1                              # Utilisation maximale des CPU disponibles\n",
    ")\n",
    "\n",
    "\n",
    "grid_search_RF.fit(X_train, y_train)\n",
    "\n",
    "print(\"Meilleurs paramètres trouvés :\")\n",
    "print(grid_search_RF.best_params_)\n",
    "\n",
    "\n",
    "best_RF_model = grid_search_RF.best_estimator_\n",
    "\n",
    "# --predictions train--\n",
    "\n",
    "y_train_pred = best_RF_model.predict(X_train)\n",
    "series_train['train_Forecast_RF'] = y_train_pred\n",
    "\n",
    "# --predictions test--\n",
    "\n",
    "y_pred = best_RF_model.predict(X_test)\n",
    "series_test['test_Forecast_RF'] = y_pred\n"
   ]
  },
  {
   "cell_type": "code",
   "execution_count": 5,
   "metadata": {},
   "outputs": [
    {
     "data": {
      "text/html": [
       "<div>\n",
       "<style scoped>\n",
       "    .dataframe tbody tr th:only-of-type {\n",
       "        vertical-align: middle;\n",
       "    }\n",
       "\n",
       "    .dataframe tbody tr th {\n",
       "        vertical-align: top;\n",
       "    }\n",
       "\n",
       "    .dataframe thead th {\n",
       "        text-align: right;\n",
       "    }\n",
       "</style>\n",
       "<table border=\"1\" class=\"dataframe\">\n",
       "  <thead>\n",
       "    <tr style=\"text-align: right;\">\n",
       "      <th></th>\n",
       "      <th>onpromotion</th>\n",
       "      <th>oil_price</th>\n",
       "      <th>holiday</th>\n",
       "    </tr>\n",
       "  </thead>\n",
       "  <tbody>\n",
       "    <tr>\n",
       "      <th>0</th>\n",
       "      <td>0</td>\n",
       "      <td>93.080000</td>\n",
       "      <td>0</td>\n",
       "    </tr>\n",
       "    <tr>\n",
       "      <th>1</th>\n",
       "      <td>0</td>\n",
       "      <td>93.810000</td>\n",
       "      <td>0</td>\n",
       "    </tr>\n",
       "    <tr>\n",
       "      <th>2</th>\n",
       "      <td>0</td>\n",
       "      <td>93.600000</td>\n",
       "      <td>0</td>\n",
       "    </tr>\n",
       "    <tr>\n",
       "      <th>3</th>\n",
       "      <td>0</td>\n",
       "      <td>93.767547</td>\n",
       "      <td>1</td>\n",
       "    </tr>\n",
       "    <tr>\n",
       "      <th>4</th>\n",
       "      <td>0</td>\n",
       "      <td>94.102453</td>\n",
       "      <td>0</td>\n",
       "    </tr>\n",
       "    <tr>\n",
       "      <th>...</th>\n",
       "      <td>...</td>\n",
       "      <td>...</td>\n",
       "      <td>...</td>\n",
       "    </tr>\n",
       "    <tr>\n",
       "      <th>1079</th>\n",
       "      <td>2582</td>\n",
       "      <td>36.675088</td>\n",
       "      <td>0</td>\n",
       "    </tr>\n",
       "    <tr>\n",
       "      <th>1080</th>\n",
       "      <td>1316</td>\n",
       "      <td>36.360000</td>\n",
       "      <td>0</td>\n",
       "    </tr>\n",
       "    <tr>\n",
       "      <th>1081</th>\n",
       "      <td>3848</td>\n",
       "      <td>37.880000</td>\n",
       "      <td>0</td>\n",
       "    </tr>\n",
       "    <tr>\n",
       "      <th>1082</th>\n",
       "      <td>9068</td>\n",
       "      <td>36.590000</td>\n",
       "      <td>0</td>\n",
       "    </tr>\n",
       "    <tr>\n",
       "      <th>1083</th>\n",
       "      <td>1638</td>\n",
       "      <td>37.130000</td>\n",
       "      <td>1</td>\n",
       "    </tr>\n",
       "  </tbody>\n",
       "</table>\n",
       "<p>1084 rows × 3 columns</p>\n",
       "</div>"
      ],
      "text/plain": [
       "      onpromotion  oil_price  holiday\n",
       "0               0  93.080000        0\n",
       "1               0  93.810000        0\n",
       "2               0  93.600000        0\n",
       "3               0  93.767547        1\n",
       "4               0  94.102453        0\n",
       "...           ...        ...      ...\n",
       "1079         2582  36.675088        0\n",
       "1080         1316  36.360000        0\n",
       "1081         3848  37.880000        0\n",
       "1082         9068  36.590000        0\n",
       "1083         1638  37.130000        1\n",
       "\n",
       "[1084 rows x 3 columns]"
      ]
     },
     "execution_count": 5,
     "metadata": {},
     "output_type": "execute_result"
    }
   ],
   "source": [
    "X_train"
   ]
  },
  {
   "cell_type": "code",
   "execution_count": 6,
   "metadata": {},
   "outputs": [
    {
     "ename": "SyntaxError",
     "evalue": "invalid syntax (231600910.py, line 1)",
     "output_type": "error",
     "traceback": [
      "\u001b[0;36m  Cell \u001b[0;32mIn[6], line 1\u001b[0;36m\u001b[0m\n\u001b[0;31m    voirpour RF puis faire un code qui fait pred sur chauqe magasin puis agggreer. peu tetre u code qui teste lstm prophet sur chacun et prend le meilelleurs des deu sur chacun . on aggrege. faire pareil sur cluster.\u001b[0m\n\u001b[0m             ^\u001b[0m\n\u001b[0;31mSyntaxError\u001b[0m\u001b[0;31m:\u001b[0m invalid syntax\n"
     ]
    }
   ],
   "source": [
    "voirpour RF puis faire un code qui fait pred sur chauqe magasin puis agggreer. peu tetre u code qui teste lstm prophet sur chacun et prend le meilelleurs des deu sur chacun . on aggrege. faire pareil sur cluster. "
   ]
  },
  {
   "cell_type": "code",
   "execution_count": null,
   "metadata": {},
   "outputs": [],
   "source": []
  },
  {
   "cell_type": "code",
   "execution_count": null,
   "metadata": {},
   "outputs": [],
   "source": [
    "\n",
    "# %%\n",
    "# Prédictions sur l'ensemble de test\n",
    "y_pred = best_RF_model.predict(X_test)\n",
    "\n",
    "# Évaluation\n",
    "rmse = mean_squared_error(y_test, y_pred, squared=False)\n",
    "print(f\"RMSE avec le meilleur modèle Random Forest : {rmse}\")\n",
    "\n",
    "# %%\n",
    "# Ajout des prédictions au DataFrame de test\n",
    "series_test['Predictions'] = y_pred\n",
    "\n",
    "# %%\n",
    "# Agrégation des prédictions par magasin\n",
    "if 'store' in series_test.columns:\n",
    "    aggregated_predictions = series_test.groupby('store')[['sales', 'Predictions']].sum()\n",
    "    print(aggregated_predictions.head())\n",
    "else:\n",
    "    print(\"La colonne 'store' est absente, impossible d'agréger par magasin.\")\n",
    "\n",
    "# %%\n",
    "# Sauvegarder les prédictions\n",
    "series_test.to_csv(\"series_test_with_predictions.csv\", index=False)\n"
   ]
  },
  {
   "cell_type": "markdown",
   "metadata": {},
   "source": [
    "#series_train.to_csv(\"series_train\",index =False, header=True)\n",
    "#series_test.to_csv(\"series_test\",index =False, header=True)"
   ]
  },
  {
   "cell_type": "markdown",
   "metadata": {},
   "source": []
  }
 ],
 "metadata": {
  "kernelspec": {
   "display_name": "venv_time_series",
   "language": "python",
   "name": "python3"
  },
  "language_info": {
   "codemirror_mode": {
    "name": "ipython",
    "version": 3
   },
   "file_extension": ".py",
   "mimetype": "text/x-python",
   "name": "python",
   "nbconvert_exporter": "python",
   "pygments_lexer": "ipython3",
   "version": "3.11.5"
  }
 },
 "nbformat": 4,
 "nbformat_minor": 2
}
